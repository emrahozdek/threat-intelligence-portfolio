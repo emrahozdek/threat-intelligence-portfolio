{
 "cells": [
  {
   "cell_type": "code",
   "execution_count": null,
   "id": "01791fda-186e-4a3b-8c8c-3b94dfca4045",
   "metadata": {},
   "outputs": [],
   "source": [
    "import pandas as pd\n",
    "import numpy as np\n",
    "import polars as pl"
   ]
  },
  {
   "cell_type": "code",
   "execution_count": null,
   "id": "2b00f817-695a-47e1-9adb-fd592a27a7d4",
   "metadata": {},
   "outputs": [],
   "source": [
    "!pip install polars"
   ]
  },
  {
   "cell_type": "code",
   "execution_count": null,
   "id": "16d126c1-8083-4f75-9bcd-81d5543f6754",
   "metadata": {},
   "outputs": [],
   "source": [
    "import polars as pl"
   ]
  },
  {
   "cell_type": "code",
   "execution_count": null,
   "id": "05aeadfc-8905-4359-adb4-7dfa51df9f0d",
   "metadata": {
    "scrolled": true
   },
   "outputs": [],
   "source": [
    "# Load the traning dataset\n",
    "df = pl.read_csv(\"UNSW_NB15_training-set.csv\")\n",
    "\n",
    "# Schema\n",
    "df.schema"
   ]
  },
  {
   "cell_type": "code",
   "execution_count": null,
   "id": "f1a88f0a-27f1-4795-84a3-c4244cb39207",
   "metadata": {},
   "outputs": [],
   "source": [
    "df.head(5)"
   ]
  },
  {
   "cell_type": "code",
   "execution_count": null,
   "id": "ab32352e-55bb-4291-9072-876d060ac477",
   "metadata": {},
   "outputs": [],
   "source": [
    "# Column names\n",
    "df.columns"
   ]
  },
  {
   "cell_type": "code",
   "execution_count": null,
   "id": "5c8f0836-f8ec-481a-b23a-0f24093afc39",
   "metadata": {},
   "outputs": [],
   "source": [
    "# Count rows\n",
    "df.shape"
   ]
  },
  {
   "cell_type": "code",
   "execution_count": null,
   "id": "2eade776-d8e7-48c2-858f-51bd24665b4f",
   "metadata": {},
   "outputs": [],
   "source": [
    "# 2 helpful columns\n",
    "# Label: 1=attack 0=normal\n",
    "# attack_cat: type of attack\n",
    "\n",
    "# Checking unique attacks\n",
    "df.select(\"attack_cat\").unique()"
   ]
  },
  {
   "cell_type": "code",
   "execution_count": null,
   "id": "d9ae2c21-c167-43f5-bcc6-4bbb59e82d0a",
   "metadata": {},
   "outputs": [],
   "source": [
    "type(df)"
   ]
  },
  {
   "cell_type": "code",
   "execution_count": null,
   "id": "9fbfe08e-ed35-4a6c-80a1-265844c732ad",
   "metadata": {},
   "outputs": [],
   "source": [
    "df_pd = df.to_pandas()"
   ]
  },
  {
   "cell_type": "code",
   "execution_count": null,
   "id": "8aa8f9e2-24d2-4172-9aa3-a28a84c9dc6d",
   "metadata": {},
   "outputs": [],
   "source": [
    "df_pd['attack_cat'].unique()"
   ]
  },
  {
   "cell_type": "code",
   "execution_count": null,
   "id": "2f1990bf-23e4-45dd-a2bb-7505384f7eba",
   "metadata": {},
   "outputs": [],
   "source": [
    "# to see how many sessions per type\n",
    "df_pd['attack_cat'].value_counts()"
   ]
  },
  {
   "cell_type": "code",
   "execution_count": null,
   "id": "7bac6b85-35f0-4f06-9458-5d3a82de9d0a",
   "metadata": {},
   "outputs": [],
   "source": [
    "!pip install altair"
   ]
  },
  {
   "cell_type": "code",
   "execution_count": null,
   "id": "bd80087f-eda2-4c87-96ad-b78ee6a63670",
   "metadata": {},
   "outputs": [],
   "source": [
    "pip install --upgrade typing_extensions"
   ]
  },
  {
   "cell_type": "code",
   "execution_count": null,
   "id": "22e2f88e-9381-40b0-9c1c-b4c74b9cce3d",
   "metadata": {},
   "outputs": [],
   "source": [
    "!pip show typing_extensions"
   ]
  },
  {
   "cell_type": "code",
   "execution_count": null,
   "id": "b08d6269-8aca-4ddd-95a5-3cb45e135c96",
   "metadata": {},
   "outputs": [],
   "source": [
    "pip install altair-saver"
   ]
  },
  {
   "cell_type": "code",
   "execution_count": null,
   "id": "169e0b6a-1829-40d8-94cd-28c69748a64c",
   "metadata": {},
   "outputs": [],
   "source": [
    "# Visualize with Altair - Attack Category Distribution\n",
    "\n",
    "import altair as alt"
   ]
  },
  {
   "cell_type": "code",
   "execution_count": null,
   "id": "1fbe3737-036c-4327-859f-e2005083fdf0",
   "metadata": {},
   "outputs": [],
   "source": [
    "import altair as alt\n",
    "\n",
    "alt.data_transformers.disable_max_rows()"
   ]
  },
  {
   "cell_type": "code",
   "execution_count": null,
   "id": "5b437c3d-cb9f-42b9-a456-36619ddb9dec",
   "metadata": {},
   "outputs": [],
   "source": [
    "alt.Chart(df_pd).mark_bar().encode(\n",
    "    x=alt.X('attack_cat:N', sort='-y'),\n",
    "    y='count():Q',\n",
    "    color='attack_cat:N'\n",
    ").properties(\n",
    "    title='Attack Category Distribution',\n",
    "    width=700\n",
    ")"
   ]
  },
  {
   "cell_type": "code",
   "execution_count": null,
   "id": "769795b8-5669-4f99-b723-8d44a00da03b",
   "metadata": {},
   "outputs": [],
   "source": [
    "# Compare attack vs. Normal Sessions\n",
    "\n",
    "# creating a new column 'is_attack'\n",
    "\n",
    "df_pd['is_attack'] = df_pd['label'].map({0:'Normal', 1:'Attack'})"
   ]
  },
  {
   "cell_type": "code",
   "execution_count": null,
   "id": "747fc5ac-0003-433b-abcc-ec16413edc91",
   "metadata": {},
   "outputs": [],
   "source": [
    "import altair as alt\n",
    "\n",
    "alt.Chart(df_pd).mark_bar().encode(\n",
    "    x=alt.X('is_attack:N', title='Session Type'),\n",
    "    y='count():Q',\n",
    "    color='is_attack:N'\n",
    ").properties(\n",
    "    title='Normal vs. Attack Session Distribution',\n",
    "    width=400\n",
    ")"
   ]
  },
  {
   "cell_type": "code",
   "execution_count": null,
   "id": "6126b5b2-d714-49ca-b1a7-bc9563c86561",
   "metadata": {},
   "outputs": [],
   "source": [
    "# compare session duration between attack N Normal\n",
    "\n",
    "alt.Chart(df_pd).mark_boxplot().encode(\n",
    "    x=alt.X('is_attack:N', title='Session Type'),\n",
    "    y=alt.Y('dur:Q', title='Session Duration'),\n",
    "    color='is_attack:N'\n",
    ").properties(\n",
    "    title='Session Duration by Attack Label',\n",
    "    width=400\n",
    ")"
   ]
  },
  {
   "cell_type": "code",
   "execution_count": null,
   "id": "d22a9eab-4fa6-41e1-b29e-6b421b5eff85",
   "metadata": {},
   "outputs": [],
   "source": [
    "# Comparing Source bytes Sent(sbytes)\n",
    "# helpful to detect heavy hitters like brute-force or large payload attacks\n",
    "\n",
    "alt.Chart(df_pd).mark_boxplot().encode(\n",
    "    x=alt.X('is_attack:N', title='Session Type'),\n",
    "    y=alt.Y('sbytes:Q', title='Source Bytes Sent'),\n",
    "    color='is_attack:N'\n",
    ").properties(\n",
    "    title='Source Bytes by Attack Label',\n",
    "    width=400\n",
    ")"
   ]
  },
  {
   "cell_type": "code",
   "execution_count": null,
   "id": "63560142-7e4e-4ca3-869d-02a2f8161ded",
   "metadata": {},
   "outputs": [],
   "source": [
    "# Comparing Categorical Feature - Protocol(proto)\n",
    "# shows which protocols(like TCP,UDP) are more commonly used by each\n",
    "\n",
    "alt.Chart(df_pd).mark_bar().encode(\n",
    "    x=alt.X('proto:N', title='Protocol'),\n",
    "    y='count():Q',\n",
    "    color='is_attack:N',\n",
    "    column='is_attack:N'\n",
    ").properties(\n",
    "    title='Protocol Usage by Attack vs Normal',\n",
    "    width=400\n",
    ")"
   ]
  },
  {
   "cell_type": "code",
   "execution_count": null,
   "id": "17342fbb-bec6-4f2d-8c25-cac981ea4b81",
   "metadata": {},
   "outputs": [],
   "source": [
    "# Getting top 10 most common protocols\n",
    "\n",
    "top_protocols = df_pd['proto'].value_counts().nlargest(10).index.tolist()"
   ]
  },
  {
   "cell_type": "code",
   "execution_count": null,
   "id": "307bd42a-fd93-4046-9ea3-3f2f79f5d0f5",
   "metadata": {},
   "outputs": [],
   "source": [
    "# Filter the dataset\n",
    "\n",
    "df_top_proto = df_pd[df_pd['proto'].isin(top_protocols)]"
   ]
  },
  {
   "cell_type": "code",
   "execution_count": null,
   "id": "246393c3-f455-4de0-bf78-9bd9f05b638d",
   "metadata": {},
   "outputs": [],
   "source": [
    "alt.Chart(df_top_proto).mark_bar().encode(\n",
    "    x=alt.X('proto:N', title='Top Protocols'),\n",
    "    y='count():Q',\n",
    "    color='is_attack:N',\n",
    "    column='is_attack:N'\n",
    ").properties(\n",
    "    title='Top Protocol Usage by Attacj vs Normal',\n",
    "    width=400\n",
    ")"
   ]
  },
  {
   "cell_type": "code",
   "execution_count": null,
   "id": "4e017444-f7ee-4ff4-b253-38359d91cfcf",
   "metadata": {},
   "outputs": [],
   "source": [
    "export_cols = [\n",
    "    'is_attack', 'attack_cat', 'dur', 'proto', 'sbytes', 'dbytes', 'ct_src_ltm', 'ct_dst_ltm'\n",
    "]\n",
    "\n",
    "df_pd[export_cols].to_csv('unsw_nb15_tableau_export.csv', index=False)"
   ]
  },
  {
   "cell_type": "code",
   "execution_count": null,
   "id": "b780a6e9-418c-4f98-b435-d13d8c202b77",
   "metadata": {},
   "outputs": [],
   "source": []
  }
 ],
 "metadata": {
  "kernelspec": {
   "display_name": "Python 3 (ipykernel)",
   "language": "python",
   "name": "python3"
  },
  "language_info": {
   "codemirror_mode": {
    "name": "ipython",
    "version": 3
   },
   "file_extension": ".py",
   "mimetype": "text/x-python",
   "name": "python",
   "nbconvert_exporter": "python",
   "pygments_lexer": "ipython3",
   "version": "3.11.5"
  }
 },
 "nbformat": 4,
 "nbformat_minor": 5
}
